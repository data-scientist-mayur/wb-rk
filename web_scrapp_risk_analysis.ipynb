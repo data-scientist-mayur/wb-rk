{
 "cells": [
  {
   "cell_type": "code",
   "execution_count": 1,
   "id": "9a3c45e3",
   "metadata": {},
   "outputs": [],
   "source": [
    "#important libraries \n",
    "import pandas as pd\n",
    "from sklearn.model_selection import train_test_split,KFold\n",
    "import numpy as np\n",
    "from sklearn.preprocessing import LabelEncoder #(specially use to for only y )\n",
    "import statsmodels.api as sm\n",
    "from sklearn.metrics import confusion_matrix,classification_report,accuracy_score\n",
    "import matplotlib.pyplot as plt\n",
    "import seaborn as sns\n",
    "from sklearn.feature_selection import f_classif"
   ]
  },
  {
   "cell_type": "code",
   "execution_count": 2,
   "id": "a5f2c6f2",
   "metadata": {},
   "outputs": [],
   "source": [
    "from fuzzywuzzy import fuzz\n",
    "from fuzzywuzzy import process\n"
   ]
  },
  {
   "cell_type": "code",
   "execution_count": null,
   "id": "f22784d0",
   "metadata": {},
   "outputs": [],
   "source": [
    "#read the data \n",
    "path =\"/Users/mayur.kolki/Downloads/customer_emails.csv\"\n",
    "data=pd.read_csv(path)\n",
    "data"
   ]
  },
  {
   "cell_type": "code",
   "execution_count": null,
   "id": "51bc756c",
   "metadata": {},
   "outputs": [],
   "source": [
    "data1= data.email.head()\n",
    "data1"
   ]
  },
  {
   "cell_type": "code",
   "execution_count": null,
   "id": "ed1829da",
   "metadata": {},
   "outputs": [],
   "source": [
    "def call_goole(email,emailPerRes):\n",
    "    import requests, lxml\n",
    "    from bs4 import BeautifulSoup\n",
    "\n",
    "    headers = {\n",
    "        \"User-Agent\":\n",
    "        \"Mozilla/5.0 (Windows NT 10.0; Win64; x64) AppleWebKit/537.36 (KHTML, like Gecko) Chrome/72.0.3538.102 Safari/537.36 Edge/18.19582\"\n",
    "    }\n",
    "    \n",
    "    params = {\n",
    "    'q': email,  # search query\n",
    "    'hl': 'en',                # language\n",
    "    'num': '100'               # number of results\n",
    "    }\n",
    "\n",
    "    html = requests.get('https://www.google.com/search', headers=headers, params=params)\n",
    "    soup = BeautifulSoup(html.text, 'lxml')\n",
    "    data=[]\n",
    "    #out=[]\n",
    "    #print(11)\n",
    "    #print(soup)\n",
    "    for result in soup.select('.tF2Cxc'):\n",
    "     #   print(result)\n",
    "        innerRes=[]\n",
    "        link = result.select_one('.yuRUbf a')['href']\n",
    "        displayed_link = result.select_one('.TbwUpd.NJjxre').text\n",
    "        # https://stackoverflow.com/a/25703406/15164646\n",
    "        domain_name = ''.join(re.findall(r'^(?:https?:\\/\\/)?(?:[^@\\/\\n]+@)?(?:www\\.)?([^:\\/?\\n]+)', link))\n",
    "        #print(email)\n",
    "        data.append(domain_name)\n",
    "        #print(domain_name)\n",
    "        innerRes.append(email)\n",
    "        innerRes.append(domain_name)\n",
    "        wanted_list = [\"foxrummy24\",\"rummy\",\"gaming\",\"tradingview\",\"razorpay\",\"ebiz\",\"sarso\",\"trading\",\"binomo\",\"forex\",\"network marketing\"]\n",
    "        process.extract(domain_name, wanted_list)\n",
    "      #  print(23)\n",
    "        #print(\"FuzzyWuzzy Ratio: \", fuzz.ratio(domain_name, wanted_list))\n",
    "        for i in wanted_list:\n",
    "            a=(fuzz.ratio(domain_name, i))\n",
    "            innerRes.append(a)\n",
    "            #print(a)\n",
    "       # print(innerRes)    \n",
    "        emailPerRes.append(innerRes) \n",
    "    return emailPerRes    "
   ]
  },
  {
   "cell_type": "code",
   "execution_count": null,
   "id": "6060575f",
   "metadata": {},
   "outputs": [],
   "source": [
    "emailPerRes=[]\n",
    "for i in data1:\n",
    "   # print(i)\n",
    "    emailPerRes=call_goole(i,emailPerRes)\n",
    "print(emailPerRes)    "
   ]
  },
  {
   "cell_type": "code",
   "execution_count": null,
   "id": "d767c4a6",
   "metadata": {},
   "outputs": [],
   "source": [
    "df = pd.DataFrame(emailPerRes, columns =['email', 'word', 'foxrummy24','rummy','gaming'], dtype = int)\n",
    "print(df)"
   ]
  },
  {
   "cell_type": "code",
   "execution_count": null,
   "id": "0d4392e3",
   "metadata": {},
   "outputs": [],
   "source": []
  },
  {
   "cell_type": "code",
   "execution_count": null,
   "id": "8d640f97",
   "metadata": {},
   "outputs": [],
   "source": [
    "print(df[(df['foxrummy24'] > 40) | (df['rummy'] > 40) | (df['gaming']>40)])"
   ]
  },
  {
   "cell_type": "code",
   "execution_count": null,
   "id": "33066c57",
   "metadata": {},
   "outputs": [],
   "source": [
    "df1 = df.groupby(['email','word'], sort=False)['foxrummy24','rummy','gaming'].max()\n",
    "df1"
   ]
  },
  {
   "cell_type": "code",
   "execution_count": null,
   "id": "5a36c100",
   "metadata": {},
   "outputs": [],
   "source": [
    "import pandas as pd\n",
    "import numpy as np\n",
    "exam_data  = {'name': ['Anastasia', 'Dima', 'Katherine', 'James', 'Emily', 'Michael', 'Matthew', 'Laura', 'Kevin', 'Jonas'],\n",
    "        'score': [12.5, 9, 16.5, np.nan, 9, 20, 14.5, np.nan, 8, 19],\n",
    "        'attempts': [1, 3, 2, 3, 2, 3, 1, 1, 2, 1],\n",
    "        'qualify': ['yes', 'no', 'yes', 'no', 'no', 'yes', 'yes', 'no', 'no', 'yes']}\n",
    "labels = ['a', 'b', 'c', 'd', 'e', 'f', 'g', 'h', 'i', 'j']\n",
    "df = pd.DataFrame(exam_data , index=labels)\n",
    "df"
   ]
  },
  {
   "cell_type": "code",
   "execution_count": null,
   "id": "7ee6eabe",
   "metadata": {},
   "outputs": [],
   "source": [
    "print(\"Number of attempts in the examination is less than 2 and score greater than 15 :\")\n",
    "print(df[(df['attempts'] < 2) & (df['score'] > 15)])"
   ]
  },
  {
   "cell_type": "code",
   "execution_count": null,
   "id": "3aba68ae",
   "metadata": {},
   "outputs": [],
   "source": []
  },
  {
   "cell_type": "code",
   "execution_count": null,
   "id": "a9c8054e",
   "metadata": {},
   "outputs": [],
   "source": []
  },
  {
   "cell_type": "code",
   "execution_count": null,
   "id": "97dc1166",
   "metadata": {},
   "outputs": [],
   "source": []
  },
  {
   "cell_type": "code",
   "execution_count": null,
   "id": "2847e513",
   "metadata": {},
   "outputs": [],
   "source": [
    "import requests, lxml\n",
    "from bs4 import BeautifulSoup\n",
    "import re\n",
    "headers = {\n",
    "    \"User-Agent\":\n",
    "    \"Mozilla/5.0 (Windows NT 10.0; Win64; x64) AppleWebKit/537.36 (KHTML, like Gecko) Chrome/72.0.3538.102 Safari/537.36 Edge/18.19582\"\n",
    "}\n",
    "\n",
    "params = {\n",
    "  'q': 'network marketing',  # search query\n",
    "  'hl': 'en',                # language\n",
    "  'num': '100'               # number of results\n",
    "}\n",
    "\n",
    "html = requests.get('https://www.google.com/search', headers=headers, params=params)\n",
    "soup = BeautifulSoup(html.text, 'lxml')\n",
    "\n",
    "# container with all needed data\n",
    "for result in soup.select('.tF2Cxc'):\n",
    "  link = result.select_one('.yuRUbf a')['href']\n",
    "  displayed_link = result.select_one('.TbwUpd.NJjxre').text\n",
    "\n",
    "  # https://stackoverflow.com/a/25703406/15164646\n",
    "  domain_name = ''.join(re.findall(r'^(?:https?:\\/\\/)?(?:[^@\\/\\n]+@)?(?:www\\.)?([^:\\/?\\n]+)', link))\n",
    "\n",
    "  #print(link)\n",
    "  #print(displayed_link)\n",
    "  print(domain_name)\n",
    "  print('---------------')"
   ]
  },
  {
   "cell_type": "code",
   "execution_count": null,
   "id": "42949331",
   "metadata": {},
   "outputs": [],
   "source": [
    "import os\n",
    "import sys\n",
    "os.path.dirname(sys.executable)"
   ]
  },
  {
   "cell_type": "code",
   "execution_count": null,
   "id": "44ccef62",
   "metadata": {},
   "outputs": [],
   "source": [
    "import requests, lxml\n",
    "from bs4 import BeautifulSoup\n",
    "\n",
    "headers = {\n",
    "    \"User-Agent\":\n",
    "    \"Mozilla/5.0 (Windows NT 10.0; Win64; x64) AppleWebKit/537.36 (KHTML, like Gecko) Chrome/72.0.3538.102 Safari/537.36 Edge/18.19582\"\n",
    "}\n",
    "\n",
    "params = {\n",
    "  'q': 'codeinsight2020@gmail.com',  # search query\n",
    "  'hl': 'en',                # language\n",
    "  'num': '100'               # number of results\n",
    "}\n",
    "\n",
    "html = requests.get('https://www.google.com/search', headers=headers, params=params)\n",
    "soup = BeautifulSoup(html.text, 'lxml')\n",
    "data=[]\n",
    "for result in soup.select('.tF2Cxc'):\n",
    "    link = result.select_one('.yuRUbf a')['href']\n",
    "    displayed_link = result.select_one('.TbwUpd.NJjxre').text\n",
    "    # https://stackoverflow.com/a/25703406/15164646\n",
    "    domain_name = ''.join(re.findall(r'^(?:https?:\\/\\/)?(?:[^@\\/\\n]+@)?(?:www\\.)?([^:\\/?\\n]+)', link))\n",
    "    data.append(domain_name)\n",
    "    print(domain_name)"
   ]
  },
  {
   "cell_type": "code",
   "execution_count": null,
   "id": "c2bdf849",
   "metadata": {},
   "outputs": [],
   "source": [
    "import requests, lxml\n",
    "from bs4 import BeautifulSoup\n",
    "import re\n",
    "headers = {\n",
    "    \"User-Agent\":\n",
    "    \"Mozilla/5.0 (Windows NT 10.0; Win64; x64) AppleWebKit/537.36 (KHTML, like Gecko) Chrome/72.0.3538.102 Safari/537.36 Edge/18.19582\"\n",
    "}\n",
    "\n",
    "params = {\n",
    "  'q': 'Bumble',  # search query\n",
    "  'hl': 'en',                # language\n",
    "  'num': '100'               # number of results\n",
    "}\n",
    "\n",
    "html = requests.get('https://www.google.com/search', headers=headers, params=params)\n",
    "soup = BeautifulSoup(html.text, 'lxml')\n",
    "\n",
    "# container with all needed data\n",
    "for result in soup.select('.tF2Cxc'):\n",
    "  link = result.select_one('.yuRUbf a')['href']\n",
    "  displayed_link = result.select_one('.TbwUpd.NJjxre').text\n",
    "\n",
    "  # https://stackoverflow.com/a/25703406/15164646\n",
    "  domain_name = ''.join(re.findall(r'^(?:https?:\\/\\/)?(?:[^@\\/\\n]+@)?(?:www\\.)?([^:\\/?\\n]+)', link))\n",
    "\n",
    "  #print(link)\n",
    "  #print(displayed_link)\n",
    "  print(domain_name)\n",
    "  print('---------------')"
   ]
  },
  {
   "cell_type": "code",
   "execution_count": null,
   "id": "0a808a2c",
   "metadata": {},
   "outputs": [],
   "source": [
    "'boomingbulls','codeinsight2020@gmail.com','ebiz','sarso','binomo','forex',network marketing,gambling,spoofing,stalking,dating"
   ]
  },
  {
   "cell_type": "code",
   "execution_count": null,
   "id": "a09a63c2",
   "metadata": {},
   "outputs": [],
   "source": [
    "\"foxrummy24\",\"rummy\",\"gaming\",\"tradingview\",\"razorpay\",\"ebiz\",\"sarso\",\"trading\",\"binomo\",\"forex\",\"network marketing\""
   ]
  },
  {
   "cell_type": "code",
   "execution_count": null,
   "id": "f7b0f4ab",
   "metadata": {},
   "outputs": [],
   "source": []
  },
  {
   "cell_type": "code",
   "execution_count": null,
   "id": "d0e1e3b0",
   "metadata": {},
   "outputs": [],
   "source": []
  },
  {
   "cell_type": "code",
   "execution_count": null,
   "id": "8b5094fe",
   "metadata": {},
   "outputs": [],
   "source": []
  },
  {
   "cell_type": "code",
   "execution_count": null,
   "id": "f00f9a46",
   "metadata": {},
   "outputs": [],
   "source": []
  },
  {
   "cell_type": "code",
   "execution_count": null,
   "id": "f6ea343a",
   "metadata": {},
   "outputs": [],
   "source": []
  },
  {
   "cell_type": "code",
   "execution_count": null,
   "id": "79b8592e",
   "metadata": {},
   "outputs": [],
   "source": []
  },
  {
   "cell_type": "code",
   "execution_count": null,
   "id": "aaa8e439",
   "metadata": {},
   "outputs": [],
   "source": []
  },
  {
   "cell_type": "code",
   "execution_count": 3,
   "id": "e8bf9711",
   "metadata": {},
   "outputs": [
    {
     "name": "stdout",
     "output_type": "stream",
     "text": [
      "                       email\n",
      "0               boomingbulls\n",
      "1  codeinsight2020@gmail.com\n",
      "2                       ebiz\n",
      "3                      sarso\n",
      "4                     binomo\n",
      "5                      forex\n"
     ]
    }
   ],
   "source": [
    "import pandas as pd \n",
    "# List1 \n",
    "lst = ('boomingbulls','codeinsight2020@gmail.com','ebiz','sarso','binomo','forex', )\n",
    "df7 = pd.DataFrame(lst, columns =['email']) \n",
    "print(df7) \n",
    "df8= df7.email\n"
   ]
  },
  {
   "cell_type": "code",
   "execution_count": 4,
   "id": "ea289ee3",
   "metadata": {},
   "outputs": [
    {
     "data": {
      "text/plain": [
       "0                 boomingbulls\n",
       "1    codeinsight2020@gmail.com\n",
       "2                         ebiz\n",
       "3                        sarso\n",
       "4                       binomo\n",
       "5                        forex\n",
       "Name: email, dtype: object"
      ]
     },
     "execution_count": 4,
     "metadata": {},
     "output_type": "execute_result"
    }
   ],
   "source": [
    "df8"
   ]
  },
  {
   "cell_type": "code",
   "execution_count": 7,
   "id": "47ce814e",
   "metadata": {},
   "outputs": [],
   "source": [
    "def call_goole(email,emailPerRes):\n",
    "    import requests, lxml\n",
    "    from bs4 import BeautifulSoup\n",
    "    import re\n",
    "    headers = {\n",
    "        \"User-Agent\":\n",
    "        \"Mozilla/5.0 (Windows NT 10.0; Win64; x64) AppleWebKit/537.36 (KHTML, like Gecko) Chrome/72.0.3538.102 Safari/537.36 Edge/18.19582\"\n",
    "    }\n",
    "    \n",
    "    params = {\n",
    "    'q': email,  # search query\n",
    "    'hl': 'en',                # language\n",
    "    'num': '100'               # number of results\n",
    "    }\n",
    "\n",
    "    html = requests.get('https://www.google.com/search', headers=headers, params=params)\n",
    "    soup = BeautifulSoup(html.text, 'lxml')\n",
    "    data=[]\n",
    "    #out=[]\n",
    "    #print(11)\n",
    "    #print(soup)\n",
    "    for result in soup.select('.tF2Cxc'):\n",
    "     #   print(result)\n",
    "        innerRes=[]\n",
    "        link = result.select_one('.yuRUbf a')['href']\n",
    "        displayed_link = result.select_one('.TbwUpd.NJjxre').text\n",
    "        # https://stackoverflow.com/a/25703406/15164646\n",
    "        domain_name = ''.join(re.findall(r'^(?:https?:\\/\\/)?(?:[^@\\/\\n]+@)?(?:www\\.)?([^:\\/?\\n]+)', link))\n",
    "        #print(email)\n",
    "        data.append(domain_name)\n",
    "        #print(domain_name)\n",
    "        innerRes.append(email)\n",
    "        innerRes.append(domain_name)\n",
    "        wanted_list = [\"foxrummy24\",\"rummy\",\"gaming\",\"tradingview\",\"razorpay\",\"ebiz\",\"sarso\",\"trading\",\"binomo\",\"forex\",\"network marketing\",'gambling','spoofing','stalking','dating']\n",
    "        process.extract(domain_name, wanted_list)\n",
    "      #  print(23)\n",
    "        #print(\"FuzzyWuzzy Ratio: \", fuzz.ratio(domain_name, wanted_list))\n",
    "        for i in wanted_list:\n",
    "            a=(fuzz.ratio(domain_name, i))\n",
    "            innerRes.append(a)\n",
    "            #print(a)\n",
    "       # print(innerRes)    \n",
    "        emailPerRes.append(innerRes) \n",
    "    return emailPerRes    "
   ]
  },
  {
   "cell_type": "code",
   "execution_count": 8,
   "id": "7e592da1",
   "metadata": {},
   "outputs": [
    {
     "name": "stdout",
     "output_type": "stream",
     "text": [
      "[['boomingbulls', 'boomingbulls.com', 23, 19, 36, 22, 8, 20, 19, 26, 45, 10, 30, 33, 42, 25, 27], ['boomingbulls', 'instagram.com', 26, 33, 32, 25, 29, 12, 44, 30, 42, 11, 27, 29, 29, 38, 32], ['boomingbulls', 'facebook.com', 27, 12, 22, 17, 20, 25, 24, 11, 33, 24, 28, 20, 20, 20, 11], ['boomingbulls', 'facebook.com', 27, 12, 22, 17, 20, 25, 24, 11, 33, 24, 28, 20, 20, 20, 11], ['boomingbulls', 'in.linkedin.com', 16, 10, 19, 31, 9, 21, 10, 27, 38, 10, 31, 26, 17, 35, 29], ['boomingbulls', 'quora.com', 32, 29, 27, 20, 35, 0, 29, 25, 27, 29, 23, 24, 24, 12, 13], ['boomingbulls', 'pages.razorpay.com', 21, 17, 25, 21, 62, 18, 35, 16, 17, 17, 23, 23, 23, 15, 17], ['boomingbulls', 'in.tradingview.com', 14, 17, 33, 76, 23, 9, 17, 56, 33, 17, 40, 31, 23, 38, 33], ['boomingbulls', 'bweducation.businessworld.in', 11, 6, 18, 31, 17, 19, 18, 29, 24, 12, 31, 28, 22, 22, 29], ['boomingbulls', 'oneindia.com', 18, 12, 22, 26, 20, 25, 24, 21, 44, 24, 28, 20, 30, 20, 22], ['boomingbulls', 'indiaeducationdiary.in', 19, 15, 21, 30, 27, 15, 15, 28, 21, 15, 41, 20, 20, 27, 36], ['boomingbulls', 'mti.edu.eg', 10, 13, 38, 29, 0, 14, 0, 35, 12, 13, 30, 33, 22, 33, 38], ['boomingbulls', 'in.pinterest.com', 15, 19, 18, 30, 17, 10, 29, 17, 36, 19, 30, 17, 25, 17, 18], ['boomingbulls', 'signalhire.com', 17, 21, 30, 32, 18, 11, 42, 19, 40, 21, 26, 36, 27, 36, 20], ['boomingbulls', 'naukri.com', 20, 27, 25, 19, 22, 14, 40, 24, 38, 13, 30, 22, 11, 33, 25], ['boomingbulls', 'zaubacorp.com', 26, 22, 21, 8, 38, 12, 33, 10, 32, 22, 20, 19, 19, 10, 11], ['boomingbulls', 'mouthshut.com', 26, 22, 11, 8, 10, 0, 22, 10, 21, 11, 20, 10, 19, 19, 11], ['boomingbulls', 'highereducationdigest.com', 17, 20, 32, 33, 18, 14, 20, 31, 26, 13, 33, 30, 18, 24, 39], ['boomingbulls', 'businesstoday.in', 15, 19, 27, 30, 25, 20, 29, 35, 36, 10, 42, 25, 33, 42, 36], ['boomingbulls', 'dumpor.com', 30, 40, 12, 10, 22, 0, 27, 12, 25, 27, 22, 11, 33, 0, 12], ['boomingbulls', 'clubhouse.com', 26, 22, 11, 8, 10, 12, 22, 0, 32, 22, 20, 10, 19, 10, 0], ['boomingbulls', 'tgstat.com', 20, 13, 38, 19, 22, 0, 40, 24, 25, 13, 22, 33, 22, 33, 25], ['boomingbulls', 'theknowledgereview.com', 19, 15, 14, 42, 13, 15, 15, 21, 21, 22, 26, 13, 13, 27, 21], ['boomingbulls', 'zoominfo.com', 27, 24, 33, 17, 20, 12, 12, 21, 44, 24, 28, 30, 40, 20, 22], ['boomingbulls', 'duforum.in', 50, 40, 38, 29, 22, 14, 13, 35, 25, 40, 37, 33, 33, 22, 38], ['boomingbulls', 'cocotbodol.com', 17, 11, 10, 16, 9, 11, 11, 19, 30, 11, 19, 18, 18, 18, 10], ['boomingbulls', 'indiamart.com', 17, 22, 21, 25, 19, 12, 33, 20, 42, 11, 33, 19, 19, 19, 32], ['boomingbulls', 'udemycourses.me', 24, 30, 10, 15, 17, 11, 20, 9, 19, 30, 31, 9, 9, 9, 10], ['boomingbulls', 'speakrj.com', 19, 25, 24, 9, 21, 13, 50, 11, 24, 12, 21, 21, 32, 32, 12], ['boomingbulls', 'nocourses.com', 26, 22, 11, 17, 19, 12, 33, 10, 32, 33, 27, 10, 19, 10, 11], ['boomingbulls', 'easyleadz.com', 17, 11, 21, 17, 29, 24, 33, 20, 21, 11, 20, 19, 19, 19, 11], ['boomingbulls', 'indiatoday.in', 17, 11, 32, 33, 38, 12, 22, 40, 32, 11, 40, 29, 29, 38, 53], ['boomingbulls', 'mncjobsindia.com', 15, 19, 27, 22, 17, 20, 29, 17, 45, 10, 24, 33, 25, 25, 18], ['boomingbulls', 'coursef.com', 29, 25, 12, 18, 21, 13, 38, 11, 24, 38, 21, 11, 21, 11, 0], ['boomingbulls', 'noxinfluencer.com', 30, 18, 17, 21, 16, 10, 18, 17, 35, 18, 24, 16, 24, 16, 17], ['boomingbulls', 'twstalker.com', 17, 22, 21, 25, 19, 12, 44, 20, 21, 11, 33, 19, 19, 48, 11], ['boomingbulls', 'outlookindia.com', 23, 19, 18, 30, 17, 10, 19, 26, 36, 10, 30, 25, 33, 42, 27], ['boomingbulls', 'chartink.com', 18, 24, 33, 26, 20, 12, 35, 32, 44, 12, 34, 30, 20, 30, 44], ['boomingbulls', 'bit.ly', 12, 18, 17, 12, 14, 40, 0, 15, 33, 0, 9, 29, 14, 29, 17], ['boomingbulls', 'forbesindia.com', 32, 20, 19, 31, 26, 21, 30, 27, 48, 40, 31, 26, 26, 26, 19], ['boomingbulls', 'zeebiz.com', 20, 13, 12, 10, 22, 57, 13, 12, 50, 13, 22, 22, 11, 11, 12], ['codeinsight2020@gmail.com', 'foxrummy24.co.in', 77, 48, 27, 22, 25, 10, 19, 26, 27, 29, 30, 25, 33, 17, 18], ['codeinsight2020@gmail.com', 'foxrummy24.co.in', 77, 48, 27, 22, 25, 10, 19, 26, 27, 29, 30, 25, 33, 17, 18], ['codeinsight2020@gmail.com', 'thecodeinsight.com', 14, 9, 25, 34, 8, 18, 17, 40, 33, 17, 34, 23, 31, 31, 33], ['codeinsight2020@gmail.com', 'docs.revenera.com', 22, 18, 17, 21, 24, 10, 27, 17, 26, 27, 24, 16, 16, 16, 17], ['codeinsight2020@gmail.com', 'adoclib.com', 19, 12, 24, 27, 21, 13, 25, 33, 35, 12, 14, 32, 21, 32, 24], ['codeinsight2020@gmail.com', 'wellness-oase.biz', 7, 0, 17, 14, 16, 38, 27, 17, 17, 18, 35, 24, 24, 24, 17], ['codeinsight2020@gmail.com', 'compakt-shop.de', 16, 10, 10, 23, 26, 11, 30, 18, 29, 20, 31, 9, 17, 17, 19], ['ebiz', 'newindianexpress.com', 20, 16, 15, 26, 14, 17, 32, 22, 31, 16, 32, 14, 14, 14, 23], ['ebiz', 'thinkebiz.net', 0, 0, 21, 42, 10, 47, 0, 30, 32, 11, 33, 29, 19, 38, 32], ['ebiz', 'timesofindia.indiatimes.com', 16, 12, 18, 32, 11, 13, 25, 24, 24, 12, 23, 17, 29, 23, 24], ['ebiz', 'economictimes.indiatimes.com', 16, 12, 18, 26, 11, 12, 24, 17, 24, 12, 27, 17, 22, 17, 24], ['ebiz', 'moneylife.in', 18, 24, 33, 26, 20, 25, 12, 21, 22, 24, 34, 40, 40, 30, 22], ['ebiz', 'ebiz.licindia.in', 0, 0, 27, 22, 17, 40, 10, 26, 27, 10, 24, 33, 17, 25, 36], ['ebiz', 'ebiz.bpc.co.in', 8, 0, 20, 16, 18, 44, 11, 19, 30, 11, 26, 27, 36, 18, 20], ['ebiz', 'digitalindia.gov.in', 7, 0, 40, 47, 15, 9, 17, 38, 24, 8, 28, 44, 22, 44, 40], ['ebiz', 'meity.gov.in', 18, 24, 33, 35, 10, 25, 12, 32, 22, 12, 34, 30, 30, 30, 33], ['ebiz', 'indiatvnews.com', 16, 10, 19, 38, 17, 11, 30, 27, 38, 10, 31, 17, 17, 17, 38], ['ebiz', 'ndtv.com', 22, 15, 14, 21, 12, 0, 15, 13, 43, 15, 32, 12, 12, 12, 29], ['ebiz', 'linkedin.com', 18, 12, 22, 26, 10, 25, 12, 32, 44, 12, 34, 30, 20, 40, 33], ['ebiz', 'ebiztechnix.com', 16, 10, 19, 23, 17, 42, 10, 18, 48, 20, 25, 26, 17, 17, 19], ['ebiz', 'flipkart.com', 27, 24, 22, 9, 20, 12, 35, 11, 33, 24, 28, 20, 20, 20, 22], ['ebiz', 'm.facebook.com', 25, 21, 20, 16, 18, 22, 21, 10, 30, 21, 26, 18, 18, 18, 10], ['ebiz', 'india.gov.in', 9, 0, 33, 43, 20, 12, 24, 32, 33, 12, 28, 30, 30, 30, 44], ['ebiz', 'telanganatoday.com', 14, 9, 25, 28, 31, 9, 17, 32, 25, 9, 23, 23, 15, 31, 25], ['ebiz', 'glassdoor.co.in', 16, 10, 38, 31, 26, 11, 30, 36, 19, 20, 25, 35, 43, 26, 29], ['ebiz', 'ebiz.epa.ohio.gov', 7, 0, 26, 29, 24, 38, 18, 25, 35, 9, 24, 24, 32, 24, 26], ['ebiz', 'amazon.in', 11, 14, 53, 30, 35, 15, 29, 38, 27, 14, 31, 47, 35, 35, 40], ['ebiz', 'rbidocs.rbi.org.in', 14, 9, 25, 34, 23, 18, 26, 32, 33, 17, 29, 23, 31, 23, 25], ['ebiz', 'ebizfacts.com', 26, 11, 21, 8, 19, 47, 33, 10, 42, 22, 27, 19, 19, 10, 21], ['ebiz', 'play.google.com', 16, 10, 19, 23, 26, 11, 20, 18, 19, 20, 19, 17, 35, 17, 19], ['ebiz', 'ebizgc.com', 20, 13, 25, 19, 22, 57, 13, 24, 50, 13, 22, 33, 22, 22, 25], ['ebiz', 'gstsuvidhakendra.org', 13, 8, 31, 26, 29, 8, 32, 30, 23, 16, 32, 29, 29, 43, 31], ['ebiz', 'in.kompass.com', 25, 21, 20, 16, 27, 11, 32, 19, 50, 11, 26, 18, 18, 18, 20], ['ebiz', 'ebizsolutions.co.in', 14, 8, 16, 27, 15, 35, 25, 23, 32, 8, 28, 30, 37, 30, 24], ['ebiz', 'ebizmediasolution.com', 19, 15, 22, 19, 14, 32, 23, 21, 37, 8, 32, 28, 28, 28, 37], ['ebiz', 'livemint.com', 18, 24, 33, 26, 10, 25, 12, 21, 44, 12, 28, 30, 20, 30, 22], ['ebiz', 'thehindubusinessline.com', 12, 14, 13, 34, 6, 21, 21, 26, 33, 7, 20, 25, 19, 25, 20], ['ebiz', 'ebizel.com', 20, 13, 12, 19, 22, 57, 13, 12, 50, 13, 22, 22, 11, 11, 12], ['ebiz', 'naukri.com', 20, 27, 25, 19, 22, 14, 40, 24, 38, 13, 30, 22, 11, 33, 25], ['ebiz', 'easeofdoingbusiness.org', 18, 7, 28, 41, 19, 22, 21, 33, 28, 21, 30, 32, 39, 26, 28], ['ebiz', 'crunchbase.com', 25, 32, 20, 24, 27, 11, 32, 19, 30, 21, 26, 18, 18, 9, 10], ['ebiz', 'techmistri.com', 17, 21, 20, 24, 18, 22, 32, 29, 30, 11, 26, 18, 18, 27, 20], ['ebiz', 'ebiz.karnataka.gov.in', 6, 8, 22, 31, 21, 32, 23, 29, 30, 8, 37, 28, 21, 34, 30], ['ebiz', 'kum.karnataka.gov.in', 13, 16, 23, 32, 21, 8, 24, 30, 15, 8, 38, 21, 21, 36, 31], ['ebiz', 'ambitionbox.com', 24, 20, 38, 23, 17, 21, 20, 27, 48, 20, 25, 43, 17, 26, 38], ['ebiz', 'solverminds.com', 32, 30, 29, 23, 17, 21, 40, 27, 38, 20, 31, 26, 35, 35, 19], ['ebiz', 'sandyspringbank.com', 14, 17, 32, 33, 22, 9, 33, 38, 32, 8, 28, 30, 37, 37, 32], ['ebiz', 'ebiz-tcf.eu', 19, 12, 12, 18, 11, 53, 0, 11, 24, 25, 21, 21, 11, 11, 12], ['ebiz', 'ebizsystems.co.uk', 15, 9, 9, 14, 16, 38, 27, 8, 35, 9, 24, 16, 16, 24, 9], ['ebiz', 'ebiz-ltd.com', 18, 12, 11, 17, 20, 50, 12, 21, 44, 12, 28, 20, 10, 10, 11], ['ebiz', 'ebiz.in.abb.com', 16, 10, 19, 15, 17, 42, 20, 18, 48, 10, 19, 26, 17, 17, 19], ['ebiz', 'ebiz.patnc.org', 17, 11, 30, 24, 27, 44, 21, 29, 40, 21, 32, 36, 27, 27, 40], ['ebiz', 'ebiz.co.id', 10, 0, 12, 19, 22, 57, 13, 12, 38, 13, 22, 22, 22, 11, 12], ['ebiz', 'finance.yahoo.com', 22, 9, 17, 21, 16, 10, 18, 17, 35, 18, 24, 16, 24, 16, 17], ['ebiz', 'quora.com', 32, 29, 27, 20, 35, 0, 29, 25, 27, 29, 23, 24, 24, 12, 13], ['ebiz', 'cmcltd.com', 20, 27, 12, 19, 11, 0, 13, 24, 25, 13, 22, 22, 11, 11, 12], ['ebiz', 'dpiit.gov.in', 9, 0, 33, 43, 10, 12, 12, 32, 22, 12, 28, 30, 40, 30, 44], ['ebiz', 'ebiz.go.ug', 20, 13, 25, 19, 22, 57, 13, 24, 38, 13, 22, 33, 22, 22, 25], ['ebiz', 'tripadvisor.in', 17, 11, 30, 48, 36, 11, 32, 57, 20, 21, 39, 27, 36, 36, 30], ['ebiz', 'tradelink-ebiz.com', 14, 17, 25, 48, 31, 36, 17, 48, 33, 17, 34, 31, 15, 38, 25], ['ebiz', 'instagram.com', 26, 33, 32, 25, 29, 12, 44, 30, 42, 11, 27, 29, 29, 38, 32], ['ebiz', 'globalxetfs.com', 24, 10, 29, 15, 17, 11, 30, 9, 29, 20, 25, 26, 17, 17, 19], ['ebiz', 'swep.net', 0, 0, 14, 21, 12, 17, 15, 13, 14, 15, 24, 12, 38, 25, 14], ['ebiz', 'indiamart.com', 17, 22, 21, 25, 19, 12, 33, 20, 42, 11, 33, 19, 19, 19, 32], ['ebiz', 'etf.com', 35, 17, 15, 11, 13, 18, 17, 14, 31, 33, 33, 13, 13, 13, 15], ['ebiz', 'ebizcharge.com', 17, 21, 20, 24, 18, 44, 32, 19, 40, 21, 26, 27, 18, 18, 20], ['ebiz', 'ebizfiling.com', 25, 11, 30, 24, 18, 44, 11, 29, 50, 21, 26, 45, 36, 36, 30], ['ebiz', 'apply07.grants.gov', 7, 9, 33, 34, 23, 0, 35, 32, 17, 9, 23, 31, 23, 31, 25], ['ebiz', 'sec.report', 20, 13, 0, 19, 33, 14, 40, 12, 12, 27, 30, 0, 33, 22, 12], ['ebiz', 'justdial.com', 18, 24, 22, 26, 20, 12, 35, 32, 33, 12, 21, 20, 20, 40, 22], ['ebiz', 'consumercomplaints.in', 26, 23, 22, 31, 28, 16, 23, 29, 22, 15, 42, 28, 28, 28, 30], ['ebiz', 'ebiztechnocrats.com', 21, 17, 16, 20, 30, 35, 25, 23, 40, 17, 33, 22, 15, 15, 16], ['ebiz', 'connect2india.com', 15, 9, 17, 29, 16, 19, 18, 25, 35, 18, 29, 16, 24, 24, 26], ['ebiz', 'abbl.com', 22, 15, 29, 11, 25, 17, 31, 13, 43, 15, 16, 38, 12, 25, 14], ['ebiz', 'portalvan.com', 26, 22, 21, 25, 29, 0, 22, 30, 32, 22, 27, 29, 29, 38, 21], ['ebiz', 'firstcbt.bank', 17, 11, 21, 25, 19, 12, 22, 30, 21, 22, 20, 19, 29, 38, 21], ['ebiz', 'uspto.gov', 11, 14, 13, 30, 12, 0, 29, 25, 27, 14, 23, 12, 47, 35, 27], ['ebiz', 'mouthshut.com', 26, 22, 11, 8, 10, 0, 22, 10, 21, 11, 20, 10, 19, 19, 11], ['ebiz', 'ebiz.nagaland.gov.in', 7, 0, 31, 32, 14, 33, 16, 30, 31, 8, 22, 36, 21, 29, 23], ['ebiz', 'hmm21.com', 32, 29, 13, 0, 12, 0, 14, 0, 27, 14, 15, 12, 12, 0, 0], ['ebiz', 'slideshare.net', 8, 11, 20, 24, 18, 11, 32, 19, 20, 21, 32, 27, 27, 36, 30], ['ebiz', 'zaubacorp.com', 26, 22, 21, 8, 38, 12, 33, 10, 32, 22, 20, 19, 19, 10, 11], ['ebiz', 'statusin.in', 10, 12, 35, 45, 11, 13, 38, 44, 24, 0, 36, 32, 32, 53, 47], ['ebiz', 'indiafilings.com', 23, 10, 36, 30, 17, 10, 29, 35, 36, 19, 30, 42, 33, 42, 45], ['ebiz', 'ebizjamaica.com', 16, 20, 29, 15, 17, 42, 20, 18, 38, 10, 25, 26, 9, 17, 19], ['ebiz', 'dckap.com', 21, 14, 27, 10, 24, 0, 29, 12, 27, 14, 15, 24, 24, 12, 27], ['ebiz', 'en.wikipedia.org', 15, 10, 18, 22, 25, 20, 19, 26, 18, 19, 36, 17, 25, 25, 27], ['ebiz', 'nasdaq.com', 20, 13, 25, 19, 22, 0, 40, 24, 38, 13, 22, 22, 22, 22, 25], ['ebiz', 'totalebizsolutions.com', 19, 15, 21, 24, 20, 31, 22, 28, 36, 15, 36, 33, 27, 33, 29], ['ebiz', 'thehindu.com', 18, 24, 22, 26, 10, 25, 12, 32, 44, 12, 28, 20, 20, 30, 33], ['ebiz', 'marketwatch.com', 16, 20, 19, 23, 26, 11, 30, 18, 19, 20, 38, 17, 9, 17, 19], ['ebiz', 'bhaskar.com', 19, 25, 24, 9, 21, 13, 50, 11, 35, 12, 21, 21, 21, 21, 12], ['ebiz', 'arthapedia.in', 9, 11, 32, 42, 38, 24, 22, 50, 21, 22, 33, 29, 29, 38, 42], ['ebiz', 'twitter.com', 19, 25, 12, 27, 21, 13, 25, 22, 35, 12, 29, 11, 11, 21, 24], ['ebiz', 'peso.gov.in', 10, 0, 35, 27, 11, 27, 25, 22, 24, 12, 29, 32, 53, 32, 24], ['ebiz', 'business-standard.com', 13, 15, 15, 19, 14, 16, 31, 21, 37, 8, 26, 21, 21, 28, 15], ['ebiz', 'india-briefing.com', 21, 17, 33, 28, 15, 18, 26, 32, 42, 17, 40, 38, 31, 31, 42], ['ebiz', 'pib.gov.in', 10, 0, 38, 38, 11, 29, 13, 24, 38, 13, 22, 33, 44, 22, 25], ['ebiz', 'thelallantop.com', 15, 10, 18, 22, 25, 10, 19, 26, 27, 10, 24, 25, 17, 33, 18], ['ebiz', 'thenewsminute.com', 15, 18, 26, 29, 8, 19, 18, 25, 35, 9, 35, 24, 24, 24, 26], ['ebiz', 'tedmag.com', 20, 27, 25, 29, 22, 14, 27, 35, 25, 13, 30, 22, 11, 33, 38], ['ebiz', 'editorartm.com.br', 30, 27, 17, 21, 32, 19, 27, 25, 35, 18, 41, 24, 16, 16, 26], ['ebiz', 'ebizskill.com', 17, 11, 11, 17, 19, 47, 22, 10, 42, 11, 20, 19, 19, 29, 11], ['ebiz', 'inc42.com', 21, 14, 27, 20, 12, 15, 14, 25, 53, 14, 23, 24, 24, 24, 27], ['ebiz', 'ebiz.navasotavalley.com', 12, 7, 14, 24, 26, 30, 21, 13, 34, 14, 20, 19, 19, 26, 14], ['sarso', 'indiamart.com', 17, 22, 21, 25, 19, 12, 33, 20, 42, 11, 33, 19, 19, 19, 32], ['sarso', 'sarsobiz.net', 9, 12, 33, 35, 20, 38, 59, 32, 33, 24, 28, 40, 40, 40, 33], ['sarso', 'amazon.in', 11, 14, 53, 30, 35, 15, 29, 38, 27, 14, 31, 47, 35, 35, 40], ['sarso', 'sarso.org', 21, 14, 27, 20, 35, 0, 71, 25, 27, 29, 23, 24, 47, 35, 27], ['sarso', 'hi.wikipedia.org', 15, 10, 18, 22, 25, 20, 19, 26, 18, 19, 30, 17, 25, 25, 27], ['sarso', 'flipkart.com', 27, 24, 22, 9, 20, 12, 35, 11, 33, 24, 28, 20, 20, 20, 22], ['sarso', 'flipkart.com', 27, 24, 22, 9, 20, 12, 35, 11, 33, 24, 28, 20, 20, 20, 22], ['sarso', 'navbharattimes.indiatimes.com', 15, 18, 23, 30, 16, 12, 24, 22, 29, 12, 26, 22, 16, 16, 23], ['sarso', 'bis.gov.in', 10, 0, 38, 38, 11, 29, 27, 24, 38, 13, 22, 33, 44, 33, 25], ['sarso', 'tv9hindi.com', 18, 12, 22, 35, 10, 12, 12, 32, 44, 12, 21, 20, 20, 30, 33], ['sarso', 'shutterstock.com', 15, 19, 9, 15, 17, 10, 38, 17, 18, 10, 30, 8, 25, 25, 9], ['sarso', 'frugivore.in', 27, 24, 33, 35, 30, 25, 24, 32, 22, 47, 34, 30, 30, 20, 22], ['sarso', 'dreamstime.com', 25, 32, 30, 32, 27, 22, 32, 29, 30, 21, 26, 27, 18, 27, 40], ['sarso', 'gaonconnection.com', 14, 9, 33, 21, 15, 18, 17, 24, 33, 17, 34, 31, 31, 23, 33], ['sarso', 'bigbasket.com', 17, 11, 32, 25, 19, 24, 33, 20, 42, 11, 27, 29, 19, 19, 21], ['sarso', 'snapdeal.com', 18, 12, 22, 26, 30, 12, 35, 21, 33, 12, 28, 20, 30, 30, 22], ['sarso', 'zofffoods.com', 26, 11, 11, 8, 19, 12, 22, 10, 21, 22, 13, 10, 19, 10, 11], ['sarso', 'imcunani.com', 18, 24, 22, 26, 20, 12, 24, 21, 44, 12, 21, 20, 20, 20, 22], ['sarso', 'bighaat.com', 19, 12, 35, 18, 21, 27, 25, 22, 47, 12, 21, 32, 21, 21, 24], ['sarso', 'hi.vikaspedia.in', 0, 0, 27, 30, 25, 20, 19, 35, 18, 10, 30, 25, 33, 33, 36], ['sarso', 'cookpad.com', 19, 12, 24, 18, 32, 0, 25, 22, 24, 12, 21, 21, 21, 11, 12], ['sarso', 'stock.adobe.com', 16, 10, 19, 31, 17, 11, 30, 27, 29, 20, 31, 17, 26, 26, 10], ['sarso', 'mpkrishi.mp.gov.in', 14, 17, 25, 34, 15, 9, 26, 24, 25, 9, 23, 23, 38, 23, 17], ['sarso', 'zeebiz.com', 20, 13, 12, 10, 22, 57, 13, 12, 50, 13, 22, 22, 11, 11, 12], ['sarso', 'patrika.com', 19, 25, 24, 27, 32, 13, 38, 33, 35, 12, 29, 21, 21, 21, 35], ['sarso', 'hi5mart.com', 19, 25, 24, 9, 21, 13, 38, 11, 35, 12, 29, 21, 11, 11, 24], ['sarso', 'bbc.com', 24, 17, 15, 0, 13, 18, 17, 0, 46, 17, 17, 13, 13, 0, 0], ['sarso', 'krishakjagat.org', 15, 10, 27, 22, 33, 10, 29, 26, 18, 19, 30, 25, 25, 33, 27], ['sarso', 'exportgenius.in', 24, 20, 29, 23, 17, 21, 20, 27, 19, 30, 38, 26, 35, 26, 29], ['sarso', 'krishisewa.com', 17, 21, 20, 40, 27, 11, 32, 19, 30, 21, 26, 18, 18, 18, 10], ['sarso', 'livehindustan.com', 15, 18, 17, 21, 16, 19, 27, 25, 35, 9, 24, 24, 16, 32, 26], ['sarso', 'shopclues.com', 26, 22, 11, 8, 19, 12, 33, 0, 21, 22, 20, 10, 29, 19, 0], ['sarso', 'jagran.com', 20, 27, 38, 29, 33, 0, 40, 35, 38, 13, 22, 33, 11, 22, 25], ['sarso', 'collinsdictionary.com', 19, 15, 15, 19, 21, 8, 31, 21, 30, 15, 26, 21, 21, 28, 30], ['sarso', 'hindi.krishijagran.com', 12, 15, 21, 18, 27, 8, 30, 21, 29, 7, 26, 20, 20, 20, 21], ['sarso', 'wonderlandfoods.in', 14, 9, 25, 34, 23, 18, 17, 40, 25, 17, 34, 23, 31, 23, 33], ['sarso', 'agrostar.in', 19, 12, 47, 36, 32, 13, 38, 44, 24, 25, 36, 42, 32, 53, 47], ['sarso', 'bhind.nic.in', 0, 0, 22, 26, 0, 25, 0, 32, 33, 0, 21, 30, 20, 20, 33], ['sarso', 'financialexpress.com', 27, 16, 15, 26, 14, 8, 32, 15, 31, 24, 22, 14, 21, 14, 15], ['sarso', 'ranveerbrar.com', 16, 20, 19, 38, 35, 21, 30, 27, 29, 20, 31, 17, 9, 17, 19], ['sarso', 'farmersstop.com', 32, 30, 19, 15, 26, 11, 40, 9, 19, 30, 25, 17, 26, 17, 19], ['sarso', 'indiatv.in', 0, 0, 38, 38, 11, 14, 13, 35, 25, 0, 37, 33, 22, 33, 62], ['sarso', 'bhaskar.com', 19, 25, 24, 9, 21, 13, 50, 11, 35, 12, 21, 21, 21, 21, 12], ['sarso', 'indiagardening.com', 14, 17, 42, 34, 15, 18, 26, 40, 33, 17, 40, 38, 23, 31, 42], ['sarso', 'inthemarket.in', 8, 11, 30, 32, 18, 22, 21, 38, 30, 21, 65, 27, 18, 45, 40], ['sarso', 'm.tarladalal.com', 15, 19, 18, 30, 25, 0, 29, 35, 18, 10, 18, 17, 8, 25, 18], ['sarso', 'shabdkosh.com', 17, 11, 21, 17, 19, 12, 44, 20, 32, 11, 13, 19, 29, 29, 11], ['sarso', 'khetibiz.com', 18, 12, 11, 26, 20, 50, 12, 21, 44, 12, 28, 20, 10, 20, 22], ['sarso', 'kisansamadhan.com', 15, 18, 26, 21, 16, 10, 36, 25, 35, 9, 24, 24, 16, 24, 26], ['sarso', 'inextlive.com', 17, 11, 21, 33, 10, 24, 11, 20, 42, 22, 33, 19, 19, 29, 21], ['sarso', 'thehealthsite.com', 15, 9, 17, 29, 16, 19, 27, 25, 26, 9, 24, 24, 16, 32, 26], ['sarso', 'punjabkesari.in', 8, 10, 29, 23, 17, 21, 30, 27, 29, 10, 38, 35, 26, 35, 29], ['sarso', 'zeenews.india.com', 15, 9, 17, 21, 16, 19, 27, 17, 35, 9, 29, 16, 24, 24, 17], ['sarso', 'ndtv.in', 0, 0, 31, 33, 0, 18, 0, 43, 31, 0, 33, 27, 27, 40, 62], ['sarso', 'aajtak.in', 0, 0, 40, 40, 24, 15, 14, 50, 27, 0, 38, 35, 24, 59, 53], ['sarso', 'hindi.news18.com', 15, 10, 18, 37, 8, 10, 19, 26, 36, 10, 30, 17, 17, 17, 27], ['sarso', 'instagram.com', 26, 33, 32, 25, 29, 12, 44, 30, 42, 11, 27, 29, 29, 38, 32], ['sarso', 'downtoearth.org.in', 14, 9, 25, 28, 23, 18, 26, 32, 25, 17, 46, 23, 31, 31, 42], ['sarso', 'en.wiktionary.org', 22, 18, 26, 29, 24, 19, 27, 33, 26, 18, 41, 24, 24, 32, 35], ['sarso', 'stylecraze.com', 17, 21, 20, 32, 36, 22, 32, 29, 20, 21, 26, 18, 18, 27, 10], ['sarso', 'amarujala.com', 26, 33, 21, 17, 29, 0, 33, 20, 21, 11, 20, 29, 10, 19, 11], ['sarso', 'm.economictimes.com', 21, 17, 16, 20, 7, 17, 17, 15, 32, 17, 28, 15, 22, 15, 16], ['sarso', 'quora.com', 32, 29, 27, 20, 35, 0, 29, 25, 27, 29, 23, 24, 24, 12, 13], ['sarso', 'newsnationtv.com', 15, 10, 27, 30, 17, 20, 29, 26, 36, 10, 42, 25, 25, 33, 36], ['sarso', 'dbgmart.com', 19, 25, 35, 18, 21, 13, 38, 22, 35, 12, 29, 32, 11, 11, 35], ['sarso', 'kisanofindia.com', 23, 10, 27, 30, 25, 10, 29, 26, 36, 19, 24, 25, 42, 33, 27], ['sarso', 'hindi.thebetterindia.com', 12, 14, 13, 29, 19, 21, 14, 26, 33, 7, 29, 19, 12, 19, 27], ['sarso', 'hindi.asianetnews.com', 13, 8, 22, 31, 14, 8, 31, 21, 30, 8, 32, 21, 21, 21, 30], ['sarso', 'khetikisani.org', 16, 10, 29, 31, 26, 21, 30, 36, 29, 20, 38, 26, 26, 43, 38], ['sarso', 'jansatta.com', 18, 12, 22, 17, 20, 0, 35, 21, 33, 12, 28, 20, 20, 30, 22], ['sarso', 'indianspices.com', 15, 10, 18, 37, 17, 10, 29, 26, 36, 10, 24, 17, 25, 17, 27], ['sarso', 'abplive.com', 19, 12, 24, 36, 21, 27, 25, 22, 47, 12, 21, 42, 21, 32, 24], ['sarso', 'exportersindia.com', 21, 17, 17, 34, 23, 18, 26, 32, 33, 26, 34, 15, 31, 23, 25], ['sarso', 'indianjadibooti.in', 7, 0, 25, 28, 15, 18, 17, 32, 33, 9, 29, 31, 31, 23, 42], ['sarso', 'hindi.webdunia.com', 14, 17, 17, 28, 15, 27, 17, 24, 33, 9, 23, 15, 15, 15, 25], ['sarso', 'fasal.haryana.gov.in', 20, 16, 23, 39, 21, 8, 32, 30, 15, 16, 22, 29, 29, 36, 23], ['sarso', 'emandirates.com', 16, 20, 19, 31, 26, 21, 40, 27, 29, 20, 31, 17, 17, 17, 29], ['sarso', 'ekisan.net', 0, 0, 25, 29, 11, 29, 27, 24, 25, 13, 37, 22, 22, 33, 25], ['sarso', 'dailyharyananews.com', 13, 16, 23, 32, 21, 8, 32, 22, 31, 16, 27, 21, 14, 21, 31], ['sarso', 'banglashasyabima.net', 7, 8, 31, 32, 21, 17, 24, 22, 23, 8, 27, 36, 21, 29, 23], ['sarso', 'naidunia.com', 18, 24, 33, 35, 20, 12, 24, 32, 44, 12, 28, 30, 20, 30, 33], ['sarso', 'onlymyhealth.com', 23, 19, 18, 15, 17, 10, 19, 9, 27, 19, 30, 17, 17, 17, 18], ['sarso', 'chopaltv.com', 18, 12, 22, 17, 30, 0, 24, 11, 22, 12, 21, 20, 20, 20, 22], ['sarso', 'hindi.newsbytesapp.com', 12, 7, 14, 30, 13, 15, 22, 21, 29, 7, 26, 13, 20, 20, 21], ['sarso', 'lokmatnews.in', 17, 11, 32, 33, 19, 24, 22, 30, 21, 22, 47, 29, 29, 38, 42], ['sarso', 'thechopal.com', 17, 11, 21, 17, 29, 12, 22, 20, 21, 11, 20, 19, 19, 29, 11], ['sarso', 'mysirsa.com', 19, 25, 24, 18, 32, 13, 50, 22, 35, 12, 14, 21, 21, 21, 12], ['sarso', 'books.google.co.in', 7, 0, 25, 14, 8, 18, 17, 16, 25, 17, 29, 31, 38, 31, 17], ['sarso', 'books.google.co.in', 7, 0, 25, 14, 8, 18, 17, 16, 25, 17, 29, 31, 38, 31, 17], ['sarso', 'books.google.co.in', 7, 0, 25, 14, 8, 18, 17, 16, 25, 17, 29, 31, 38, 31, 17], ['binomo', 'binomo.com', 30, 27, 25, 19, 11, 29, 13, 24, 75, 13, 22, 33, 22, 22, 25], ['binomo', 'instagram.com', 26, 33, 32, 25, 29, 12, 44, 30, 42, 11, 27, 29, 29, 38, 32], ['binomo', 'zeenews.india.com', 15, 9, 17, 21, 16, 19, 27, 17, 35, 9, 29, 16, 24, 24, 17], ['binomo', 'zeenews.india.com', 15, 9, 17, 21, 16, 19, 27, 17, 35, 9, 29, 16, 24, 24, 17], ['binomo', 'play.google.com', 16, 10, 19, 23, 26, 11, 20, 18, 19, 20, 19, 17, 35, 17, 19], ['binomo', 'newindianexpress.com', 20, 16, 15, 26, 14, 17, 32, 22, 31, 16, 32, 14, 14, 14, 23], ['binomo', 'apps.apple.com', 17, 11, 20, 16, 27, 11, 32, 10, 20, 11, 19, 18, 27, 27, 10], ['binomo', 'crunchbase.com', 25, 32, 20, 24, 27, 11, 32, 19, 30, 21, 26, 18, 18, 9, 10], ['binomo', 'timesofindia.indiatimes.com', 16, 12, 18, 32, 11, 13, 25, 24, 24, 12, 23, 17, 29, 23, 24], ['binomo', 'linkedin.com', 18, 12, 22, 26, 10, 25, 12, 32, 44, 12, 34, 30, 20, 40, 33], ['binomo', 'hindustantimes.com', 21, 26, 17, 34, 15, 9, 35, 24, 33, 9, 29, 15, 15, 31, 33], ['binomo', 'binomolink.com', 25, 21, 30, 24, 9, 22, 11, 19, 60, 11, 32, 36, 36, 27, 20], ['binomo', 'deccanchronicle.com', 14, 17, 16, 27, 15, 17, 25, 15, 24, 17, 22, 15, 15, 15, 24], ['binomo', 'm.economictimes.com', 21, 17, 16, 20, 7, 17, 17, 15, 32, 17, 28, 15, 22, 15, 16], ['binomo', 'rappler.com', 19, 25, 24, 27, 32, 13, 38, 22, 24, 25, 21, 21, 21, 21, 12], ['binomo', 'goodreturns.in', 25, 21, 30, 32, 18, 22, 21, 38, 20, 32, 39, 27, 36, 27, 40], ['binomo', 'daytrading.com', 17, 21, 40, 56, 27, 11, 32, 67, 40, 11, 39, 36, 27, 45, 60], ['binomo', 'flipkart.com', 27, 24, 22, 9, 20, 12, 35, 11, 33, 24, 28, 20, 20, 20, 22], ['binomo', 'binomo2.zendesk.com', 21, 17, 16, 20, 15, 26, 17, 15, 48, 17, 28, 22, 22, 15, 16], ['binomo', 'facebook.com', 27, 12, 22, 17, 20, 25, 24, 11, 33, 24, 28, 20, 20, 20, 11], ['binomo', 'amazon.in', 11, 14, 53, 30, 35, 15, 29, 38, 27, 14, 31, 47, 35, 35, 40], ['binomo', 'deccanherald.com', 15, 19, 18, 22, 25, 10, 29, 26, 27, 10, 24, 17, 8, 17, 27], ['binomo', 'chrome.google.com', 22, 27, 17, 21, 16, 10, 18, 17, 26, 18, 24, 16, 24, 8, 9], ['binomo', 'iipcollaborative.org', 13, 8, 23, 32, 29, 17, 24, 30, 23, 24, 32, 29, 36, 21, 31], ['binomo', 'zeebiz.com', 20, 13, 12, 10, 22, 57, 13, 12, 50, 13, 22, 22, 11, 11, 12], ['binomo', 'top10stockbroker.com', 20, 16, 8, 19, 21, 8, 24, 15, 23, 24, 32, 7, 21, 21, 8], ['binomo', 'binomo-id.8b.io', 16, 10, 19, 23, 9, 21, 10, 18, 57, 10, 25, 26, 26, 17, 19], ['binomo', 'mg.co.za', 11, 15, 29, 11, 25, 17, 15, 13, 29, 15, 16, 25, 12, 12, 14], ['binomo', 'tracxn.com', 20, 27, 25, 38, 33, 0, 27, 47, 38, 27, 30, 22, 11, 33, 25], ['binomo', 'glassdoor.co.in', 16, 10, 38, 31, 26, 11, 30, 36, 19, 20, 25, 35, 43, 26, 29], ['binomo', 'mouthshut.com', 26, 22, 11, 8, 10, 0, 22, 10, 21, 11, 20, 10, 19, 19, 11], ['binomo', 'amalgamatedplantations.co.in', 11, 12, 29, 26, 17, 12, 18, 23, 18, 6, 27, 33, 28, 22, 29], ['binomo', 'trustpilot.com', 25, 32, 10, 24, 18, 11, 32, 29, 30, 11, 26, 9, 36, 27, 20], ['binomo', 'sourceforge.net', 24, 10, 19, 23, 26, 11, 30, 18, 19, 40, 31, 17, 35, 17, 10], ['binomo', 'binaryoptions.net', 15, 18, 26, 29, 24, 19, 27, 25, 43, 18, 35, 24, 24, 24, 35], ['binomo', 'ecyberplanet.com', 15, 19, 18, 30, 25, 20, 19, 26, 36, 19, 30, 25, 17, 17, 18], ['binomo', 'main-binomo.com', 24, 20, 29, 31, 17, 21, 20, 27, 57, 10, 25, 35, 17, 26, 29], ['binomo', 'pocket-lint.com', 16, 10, 19, 23, 9, 21, 10, 27, 38, 20, 38, 26, 35, 35, 29], ['binomo', 'quora.com', 32, 29, 27, 20, 35, 0, 29, 25, 27, 29, 23, 24, 24, 12, 13], ['binomo', 'binomos.net', 19, 12, 24, 27, 11, 27, 12, 22, 71, 25, 36, 32, 32, 21, 24], ['binomo', 'binarnieopcioni.com', 14, 17, 24, 27, 22, 17, 25, 23, 40, 17, 33, 22, 22, 22, 24], ['binomo', 'hindi.oneindia.com', 14, 9, 17, 28, 15, 18, 17, 24, 33, 17, 29, 15, 23, 15, 25], ['binomo', 'hindi.webdunia.com', 14, 17, 17, 28, 15, 27, 17, 24, 33, 9, 23, 15, 15, 15, 25], ['binomo', 'philstar.com', 18, 24, 22, 17, 20, 12, 47, 21, 33, 12, 21, 20, 20, 30, 11], ['binomo', 'mid-day.com', 19, 25, 24, 9, 21, 13, 25, 11, 35, 12, 14, 21, 11, 11, 24], ['binomo', 'binomoclub.com', 25, 21, 20, 16, 9, 22, 11, 19, 60, 11, 19, 27, 18, 18, 20], ['binomo', 'binomobot.com', 26, 22, 21, 17, 10, 24, 11, 20, 63, 11, 27, 29, 19, 19, 21], ['binomo', 'manilatimes.net', 16, 20, 29, 31, 17, 11, 20, 27, 19, 10, 31, 35, 17, 35, 38], ['binomo', 'binomodemo.com', 25, 21, 20, 24, 9, 22, 11, 19, 60, 21, 26, 27, 18, 18, 20], ['binomo', 'samaa.tv', 11, 15, 29, 21, 25, 0, 31, 13, 14, 0, 24, 25, 12, 25, 29], ['binomo', 'cryptonewsz.com', 16, 20, 10, 31, 26, 21, 30, 18, 29, 20, 31, 9, 26, 17, 19], ['binomo', 'en.prnasia.com', 17, 21, 20, 24, 27, 22, 32, 29, 30, 11, 26, 18, 18, 18, 20], ['binomo', 'binomoidr.com', 26, 22, 21, 25, 19, 24, 22, 20, 63, 22, 27, 29, 29, 19, 21], ['binomo', 'tradebrains.in', 8, 11, 30, 56, 36, 33, 32, 57, 30, 21, 39, 36, 27, 36, 40], ['binomo', 'trusted-broker-reviews.com', 17, 19, 6, 38, 18, 20, 26, 24, 25, 19, 28, 12, 18, 24, 12], ['binomo', 'trusted-broker-reviews.com', 17, 19, 6, 38, 18, 20, 26, 24, 25, 19, 28, 12, 18, 24, 12], ['binomo', 'businesswire.com', 15, 19, 18, 30, 17, 20, 29, 17, 45, 19, 30, 25, 25, 25, 18], ['binomo', 'euro-nomics.com', 24, 30, 19, 23, 17, 21, 30, 18, 38, 10, 25, 17, 26, 9, 10], ['binomo', 'pinterest.com', 17, 22, 21, 25, 19, 12, 33, 20, 42, 22, 33, 19, 29, 19, 21], ['binomo', 'thebinaryoptionsblog.com', 12, 14, 27, 29, 19, 21, 28, 32, 33, 7, 34, 25, 25, 31, 33], ['binomo', 'indianonlineseller.com', 19, 15, 21, 30, 20, 8, 22, 21, 29, 15, 21, 27, 20, 27, 29], ['binomo', 'mediawire.in', 9, 12, 33, 35, 20, 25, 24, 32, 22, 24, 41, 30, 20, 30, 44], ['binomo', 'indulgexpress.com', 22, 18, 26, 29, 16, 10, 27, 25, 35, 18, 24, 24, 24, 24, 26], ['binomo', 'polity.org.za', 17, 11, 21, 25, 29, 24, 11, 30, 21, 22, 27, 29, 38, 29, 21], ['binomo', 'industrytoday.com', 15, 18, 17, 21, 32, 10, 27, 25, 35, 9, 24, 16, 24, 24, 17], ['binomo', 'tradersunion.com', 23, 29, 27, 44, 25, 20, 38, 52, 36, 19, 36, 25, 25, 33, 27], ['binomo', 'liquipedia.net', 8, 11, 20, 32, 18, 22, 11, 29, 20, 11, 26, 27, 27, 27, 30], ['binomo', 'business-standard.com', 13, 15, 15, 19, 14, 16, 31, 21, 37, 8, 26, 21, 21, 28, 15], ['binomo', 'zululandobserver.co.za', 12, 7, 14, 24, 27, 15, 22, 14, 21, 22, 21, 13, 13, 13, 14], ['binomo', 'forbesindia.com', 32, 20, 19, 31, 26, 21, 30, 27, 48, 40, 31, 26, 26, 26, 19], ['binomo', 'sensortower.com', 24, 20, 10, 15, 26, 11, 30, 18, 29, 30, 31, 9, 26, 17, 10], ['binomo', 'cashkaro.com', 18, 24, 22, 9, 20, 0, 47, 11, 22, 12, 21, 20, 30, 20, 11], ['binomo', 'roodepoortrecord.co.za', 12, 7, 7, 18, 27, 15, 15, 21, 14, 22, 26, 7, 20, 13, 14], ['binomo', 'zoutons.com', 29, 25, 12, 18, 21, 13, 25, 22, 35, 12, 21, 11, 32, 21, 24], ['binomo', 'iqoptionwiki.com', 15, 10, 18, 30, 17, 10, 10, 26, 36, 10, 24, 17, 25, 25, 27], ['binomo', 'technologytimes.pk', 14, 9, 17, 34, 15, 18, 9, 24, 25, 17, 23, 15, 23, 23, 25], ['binomo', 'stockquantum.com', 31, 29, 18, 22, 17, 0, 29, 26, 27, 10, 30, 17, 25, 33, 18], ['binomo', 'amarujala.com', 26, 33, 21, 17, 29, 0, 33, 20, 21, 11, 20, 29, 10, 19, 11], ['binomo', 'shutterstock.com', 15, 19, 9, 15, 17, 10, 38, 17, 18, 10, 30, 8, 25, 25, 9], ['binomo', 'loginbinomo.biz', 16, 10, 29, 23, 9, 32, 10, 18, 57, 10, 25, 35, 26, 26, 19], ['binomo', 'english.lokmat.com', 21, 17, 25, 21, 15, 18, 26, 16, 33, 9, 34, 23, 23, 23, 17], ['binomo', 'filehippo.com', 26, 11, 11, 17, 10, 24, 11, 10, 32, 22, 20, 19, 29, 19, 11], ['binomo', 'bootcamp.uxdesign.cc', 13, 8, 31, 32, 14, 17, 16, 37, 23, 16, 27, 29, 29, 29, 23], ['binomo', 'fsi.stanford.edu', 31, 19, 18, 30, 25, 10, 29, 26, 27, 38, 24, 17, 25, 33, 18], ['binomo', 'aninews.in', 0, 0, 38, 48, 11, 29, 27, 35, 25, 13, 37, 33, 33, 33, 38], ['binomo', 'sugermint.com', 26, 33, 42, 25, 19, 24, 33, 30, 42, 11, 33, 38, 29, 29, 21], ['binomo', 'bhimappdownload.in', 7, 9, 25, 28, 23, 18, 17, 32, 33, 9, 29, 31, 38, 31, 33], ['binomo', 'app.thoughtleaders.io', 13, 8, 22, 25, 21, 16, 31, 29, 15, 15, 26, 21, 21, 21, 22], ['binomo', 'binomo.en.uptodown.com', 19, 15, 14, 24, 13, 15, 7, 21, 43, 15, 31, 20, 27, 13, 14], ['binomo', 'udaipurtimes.com', 23, 29, 18, 30, 17, 10, 38, 17, 27, 19, 24, 17, 17, 17, 36], ['binomo', 'zaubacorp.com', 26, 22, 21, 8, 38, 12, 33, 10, 32, 22, 20, 19, 19, 10, 11], ['binomo', 'lowvelder.co.za', 16, 10, 10, 15, 26, 21, 20, 18, 19, 20, 19, 9, 17, 9, 19], ['binomo', 'm.apkpure.com', 17, 22, 21, 17, 19, 12, 33, 10, 21, 22, 27, 19, 19, 19, 11], ['binomo', 'miningweekly.com', 15, 19, 36, 30, 8, 10, 10, 26, 36, 10, 24, 33, 25, 25, 27], ['binomo', 'finance.yahoo.com', 22, 9, 17, 21, 16, 10, 18, 17, 35, 18, 24, 16, 24, 16, 17], ['binomo', 'prnewswire.co.uk', 15, 19, 9, 30, 17, 20, 29, 17, 18, 19, 30, 8, 17, 17, 9], ['binomo', 'financialcommission.org', 24, 14, 34, 24, 19, 7, 21, 27, 34, 21, 30, 32, 26, 32, 28], ['binomo', 'ecattrade.com', 17, 22, 21, 42, 29, 12, 33, 40, 21, 22, 33, 19, 10, 19, 21], ['forex', 'investopedia.com', 15, 10, 18, 30, 25, 20, 29, 26, 36, 19, 36, 17, 25, 25, 18], ['forex', 'forex.com', 42, 29, 13, 20, 24, 15, 29, 12, 27, 71, 23, 12, 24, 0, 0], ['forex', 'forex.com', 42, 29, 13, 20, 24, 15, 29, 12, 27, 71, 23, 12, 24, 0, 0], ['forex', 'en.wikipedia.org', 15, 10, 18, 22, 25, 20, 19, 26, 18, 19, 36, 17, 25, 25, 27], ['forex', 'forbes.com', 40, 27, 12, 19, 22, 14, 40, 12, 38, 53, 22, 11, 22, 11, 0], ['forex', 'economictimes.indiatimes.com', 16, 12, 18, 26, 11, 12, 24, 17, 24, 12, 27, 17, 22, 17, 24], ['forex', 'economictimes.indiatimes.com', 16, 12, 18, 26, 11, 12, 24, 17, 24, 12, 27, 17, 22, 17, 24], ['forex', 'tradingview.com', 16, 20, 38, 85, 26, 11, 20, 64, 38, 20, 38, 35, 26, 43, 38], ['forex', 'ig.com', 25, 18, 33, 24, 14, 20, 18, 31, 50, 18, 17, 29, 29, 29, 33], ['forex', 'ig.com', 25, 18, 33, 24, 14, 20, 18, 31, 50, 18, 17, 29, 29, 29, 33], ['forex', 'dailyfx.com', 29, 12, 24, 18, 21, 13, 25, 22, 35, 25, 14, 21, 11, 21, 35], ['forex', 'dailyfx.com', 29, 12, 24, 18, 21, 13, 25, 22, 35, 25, 14, 21, 11, 21, 35], ['forex', 'cftc.gov', 22, 0, 14, 32, 12, 0, 15, 27, 14, 31, 16, 12, 25, 25, 29], ['forex', 'home.saxo', 21, 14, 13, 10, 24, 15, 43, 12, 40, 43, 23, 12, 24, 24, 13], ['forex', 'dor.gov.in', 20, 13, 38, 38, 22, 14, 27, 35, 25, 27, 30, 33, 44, 22, 38], ['forex', 'britannica.com', 17, 21, 20, 32, 27, 22, 21, 29, 50, 11, 19, 27, 18, 27, 20], ['forex', 'm.rbi.org.in', 18, 12, 33, 35, 30, 25, 24, 32, 33, 24, 28, 40, 30, 20, 22], ['forex', 'bookmyforex.com', 32, 20, 10, 15, 17, 11, 20, 9, 38, 50, 31, 9, 26, 9, 0], ['forex', 'forextime.com', 43, 33, 11, 25, 19, 24, 22, 20, 32, 56, 33, 10, 19, 19, 21], ['forex', 'udemy.com', 32, 43, 13, 20, 12, 15, 14, 12, 27, 14, 23, 12, 12, 0, 13], ['forex', 'thehindubusinessline.com', 12, 14, 13, 34, 6, 21, 21, 26, 33, 7, 20, 25, 19, 25, 20], ['forex', 'fxstreet.com', 36, 24, 11, 26, 20, 12, 35, 21, 22, 35, 28, 10, 20, 20, 11], ['forex', 'thomascook.in', 17, 11, 32, 33, 19, 12, 33, 40, 32, 11, 47, 29, 48, 48, 32], ['forex', 'barchart.com', 18, 24, 22, 17, 30, 12, 35, 21, 33, 12, 28, 20, 10, 10, 22], ['forex', 'tdameritrade.com', 15, 19, 27, 37, 25, 20, 29, 35, 27, 19, 30, 25, 8, 25, 27], ['forex', 'fxcm.com', 44, 31, 14, 0, 12, 0, 15, 0, 29, 31, 16, 12, 12, 0, 0], ['forex', 'bankofmaharashtra.in', 13, 8, 31, 32, 29, 17, 24, 37, 31, 16, 43, 29, 29, 36, 31], ['forex', 'business-standard.com', 13, 15, 15, 19, 14, 16, 31, 21, 37, 8, 26, 21, 21, 28, 15], ['forex', 'investor.gov', 18, 12, 33, 35, 20, 12, 35, 32, 44, 24, 41, 30, 30, 30, 33], ['forex', 'corporatefinanceinstitute.com', 21, 18, 17, 30, 22, 12, 18, 22, 23, 18, 26, 16, 27, 22, 23], ['forex', 'axisbank.com', 18, 12, 33, 26, 20, 12, 35, 32, 44, 12, 21, 30, 20, 30, 33], ['forex', 'amazon.in', 11, 14, 53, 30, 35, 15, 29, 38, 27, 14, 31, 47, 35, 35, 40], ['forex', 'cnbc.com', 22, 15, 14, 11, 12, 17, 15, 13, 43, 15, 24, 12, 12, 12, 14], ['forex', 'oanda.com', 21, 14, 27, 20, 24, 0, 29, 25, 40, 14, 23, 24, 24, 24, 27], ['forex', 'ndtv.com', 22, 15, 14, 21, 12, 0, 15, 13, 43, 15, 32, 12, 12, 12, 29], ['forex', 'xe.com', 25, 18, 17, 12, 14, 20, 18, 0, 33, 18, 26, 14, 14, 0, 0], ['forex', 'in.investing.com', 15, 10, 27, 30, 8, 20, 19, 35, 36, 10, 36, 25, 33, 42, 36], ['forex', 'motilaloswal.com', 15, 19, 18, 22, 25, 10, 29, 17, 27, 10, 24, 17, 17, 25, 18], ['forex', 'fastmarkets.com', 24, 20, 19, 23, 17, 11, 50, 18, 19, 30, 44, 17, 17, 35, 19], ['forex', 'play.google.com', 16, 10, 19, 23, 26, 11, 20, 18, 19, 20, 19, 17, 35, 17, 19], ['forex', 'sbi.co.in', 11, 0, 27, 20, 12, 31, 29, 25, 40, 14, 23, 35, 47, 35, 27], ['forex', 'iqoption.com', 18, 12, 22, 26, 20, 12, 12, 32, 44, 12, 28, 20, 30, 30, 33], ['forex', 'hdfcbank.com', 27, 12, 22, 17, 20, 12, 24, 21, 44, 24, 21, 20, 20, 20, 33], ['forex', 'sciencedirect.com', 15, 18, 17, 29, 16, 19, 27, 17, 35, 18, 29, 16, 24, 24, 17], ['forex', 'moneysmart.gov.au', 22, 18, 26, 21, 24, 10, 36, 17, 26, 18, 41, 24, 24, 24, 26], ['forex', 'forexbrokers.com', 38, 19, 9, 15, 25, 20, 29, 9, 27, 48, 30, 8, 17, 8, 0], ['forex', 'idfcfirstbank.com', 22, 18, 17, 21, 24, 10, 27, 25, 35, 18, 18, 16, 24, 32, 26], ['forex', 'www1.nseindia.com', 15, 9, 17, 21, 16, 19, 27, 17, 35, 9, 24, 16, 24, 24, 17], ['forex', 'icicibank.com', 17, 11, 21, 17, 19, 12, 22, 20, 42, 11, 20, 19, 19, 19, 21], ['forex', 'cleartax.in', 10, 12, 35, 36, 32, 27, 25, 44, 24, 25, 43, 32, 21, 42, 47], ['forex', 'nirmalbang.com', 25, 32, 30, 32, 27, 11, 21, 38, 40, 11, 39, 36, 27, 36, 30], ['forex', 'm.moneycontrol.com', 21, 26, 17, 14, 15, 9, 17, 16, 25, 17, 29, 15, 23, 15, 8], ['forex', 'federalreserve.gov', 14, 9, 17, 28, 23, 9, 35, 24, 8, 26, 34, 23, 15, 23, 25], ['forex', '5paisa.com', 20, 13, 25, 19, 22, 14, 40, 24, 38, 13, 15, 22, 22, 22, 25], ['forex', 'sec.gov', 12, 0, 15, 22, 13, 18, 33, 14, 15, 17, 17, 13, 27, 27, 15], ['forex', 'indusind.com', 18, 24, 22, 26, 10, 12, 24, 32, 44, 12, 21, 20, 30, 30, 33], ['forex', 'theice.com', 20, 13, 12, 29, 11, 29, 13, 24, 38, 13, 22, 11, 11, 22, 25], ['forex', 'icicidirect.com', 16, 20, 10, 23, 17, 11, 20, 18, 29, 20, 25, 9, 9, 9, 19], ['forex', 'plus500.com', 19, 25, 12, 0, 11, 0, 25, 0, 24, 12, 14, 11, 21, 11, 0], ['forex', 'cmcmarkets.com', 17, 21, 20, 16, 18, 11, 42, 10, 20, 21, 39, 18, 18, 18, 20], ['forex', 'dukascopy.com', 17, 22, 21, 8, 38, 0, 33, 10, 21, 11, 13, 19, 29, 10, 21], ['forex', 'ally.com', 22, 15, 29, 11, 25, 0, 31, 13, 29, 15, 16, 25, 12, 25, 14], ['forex', 'statestreet.com', 16, 20, 19, 23, 17, 11, 40, 18, 19, 20, 31, 17, 17, 26, 19], ['forex', 'ft.com', 38, 18, 17, 12, 14, 0, 18, 15, 33, 36, 26, 14, 14, 14, 17], ['forex', 'forexlive.com', 35, 22, 11, 33, 19, 24, 22, 20, 32, 56, 27, 19, 19, 19, 11], ['forex', 'ecb.europa.eu', 17, 22, 11, 25, 38, 24, 22, 20, 21, 22, 27, 10, 10, 10, 11], ['forex', 'centralbank.go.ke', 7, 9, 26, 43, 24, 19, 18, 42, 26, 18, 35, 32, 16, 40, 26], ['forex', 'thehindu.com', 18, 24, 22, 26, 10, 25, 12, 32, 44, 12, 28, 20, 20, 30, 33], ['forex', 'sc.com', 25, 18, 17, 0, 14, 0, 36, 0, 33, 18, 17, 14, 29, 14, 0], ['forex', 'wsj.com', 24, 17, 15, 11, 13, 0, 33, 0, 31, 17, 25, 13, 27, 13, 0], ['forex', 'finance.yahoo.com', 22, 9, 17, 21, 16, 10, 18, 17, 35, 18, 24, 16, 24, 16, 17], ['forex', 'display.3acomposites.com', 18, 14, 20, 23, 19, 7, 28, 13, 27, 14, 15, 19, 31, 19, 20], ['forex', 'nasdaq.com', 20, 13, 25, 19, 22, 0, 40, 24, 38, 13, 22, 22, 22, 22, 25], ['forex', 'trade.gov', 11, 14, 27, 60, 35, 15, 29, 62, 13, 29, 38, 24, 12, 35, 27], ['forex', 'federalbank.co.in', 15, 9, 26, 29, 24, 29, 18, 33, 26, 18, 35, 32, 24, 40, 35], ['forex', 'angelone.in', 10, 0, 35, 36, 21, 27, 25, 33, 24, 25, 43, 42, 32, 42, 35], ['forex', 'nfa.futures.org', 24, 10, 19, 23, 26, 11, 40, 27, 19, 30, 31, 17, 26, 17, 29], ['forex', 'hotforex.com', 36, 24, 11, 26, 20, 12, 24, 21, 22, 59, 28, 10, 20, 10, 11], ['forex', 'gocardless.com', 25, 21, 30, 24, 18, 11, 42, 19, 20, 32, 26, 27, 18, 18, 10], ['forex', 'data.imf.org', 27, 12, 33, 35, 30, 12, 24, 42, 33, 35, 28, 30, 20, 40, 56], ['forex', 'bankofindia.co.in', 15, 0, 26, 29, 24, 19, 18, 33, 35, 18, 29, 24, 32, 32, 35], ['forex', 'fxpro.com', 42, 29, 13, 10, 24, 0, 29, 12, 27, 29, 15, 12, 35, 0, 0], ['forex', 'iforex.in', 32, 14, 27, 30, 24, 31, 14, 38, 27, 71, 38, 24, 35, 24, 27], ['forex', 'businessinsider.com', 14, 17, 16, 27, 15, 17, 25, 15, 40, 8, 22, 22, 22, 22, 16], ['forex', 'fortuneindia.com', 38, 29, 18, 30, 25, 20, 19, 26, 36, 38, 30, 17, 25, 25, 27], ['forex', 'finviz.com', 30, 13, 25, 38, 22, 29, 13, 24, 50, 27, 22, 22, 33, 22, 25], ['forex', 'iob.in', 12, 0, 33, 24, 14, 40, 18, 31, 50, 18, 26, 43, 43, 29, 33], ['forex', 'bis.org', 24, 17, 31, 22, 27, 36, 33, 29, 46, 33, 25, 40, 40, 27, 31], ['forex', 'avatrade.com', 18, 24, 22, 43, 30, 12, 35, 42, 22, 24, 28, 20, 10, 20, 22], ['forex', 'avatrade.com', 18, 24, 22, 43, 30, 12, 35, 42, 22, 24, 28, 20, 10, 20, 22], ['forex', 'giambronelaw.com', 15, 19, 36, 30, 25, 10, 29, 17, 36, 19, 30, 42, 17, 17, 18], ['forex', 'canarabank.com', 17, 21, 20, 24, 27, 11, 32, 29, 40, 11, 26, 27, 9, 18, 20], ['forex', 'wirecardforex.com', 30, 18, 17, 29, 32, 10, 27, 25, 26, 45, 29, 16, 16, 8, 9], ['forex', 'coursera.org', 18, 12, 22, 26, 40, 12, 35, 32, 22, 35, 34, 20, 30, 30, 22], ['forex', 'livemint.com', 18, 24, 33, 26, 10, 25, 12, 21, 44, 12, 28, 30, 20, 30, 22], ['forex', 'orientexchange.in', 15, 9, 26, 36, 24, 19, 9, 33, 17, 36, 35, 24, 32, 32, 26], ['forex', 'money.usnews.com', 23, 19, 18, 22, 17, 10, 29, 9, 27, 19, 30, 17, 17, 17, 9], ['forex', 'bbc.com', 24, 17, 15, 0, 13, 18, 17, 0, 46, 17, 17, 13, 13, 0, 0]]\n"
     ]
    }
   ],
   "source": [
    "emailPerRes=[]\n",
    "for i in df8:\n",
    "   # print(i)\n",
    "    emailPerRes=call_goole(i,emailPerRes)\n",
    "print(emailPerRes)    "
   ]
  },
  {
   "cell_type": "code",
   "execution_count": 9,
   "id": "8f074e3d",
   "metadata": {},
   "outputs": [
    {
     "name": "stdout",
     "output_type": "stream",
     "text": [
      "            email               word  foxrummy24  rummy  gaming  tradingview  \\\n",
      "0    boomingbulls   boomingbulls.com          23     19      36           22   \n",
      "1    boomingbulls      instagram.com          26     33      32           25   \n",
      "2    boomingbulls       facebook.com          27     12      22           17   \n",
      "3    boomingbulls       facebook.com          27     12      22           17   \n",
      "4    boomingbulls    in.linkedin.com          16     10      19           31   \n",
      "..            ...                ...         ...    ...     ...          ...   \n",
      "427         forex       coursera.org          18     12      22           26   \n",
      "428         forex       livemint.com          18     24      33           26   \n",
      "429         forex  orientexchange.in          15      9      26           36   \n",
      "430         forex   money.usnews.com          23     19      18           22   \n",
      "431         forex            bbc.com          24     17      15            0   \n",
      "\n",
      "     razorpay  ebiz  sarso  trading  binomo  forex  network marketing  \\\n",
      "0           8    20     19       26      45     10                 30   \n",
      "1          29    12     44       30      42     11                 27   \n",
      "2          20    25     24       11      33     24                 28   \n",
      "3          20    25     24       11      33     24                 28   \n",
      "4           9    21     10       27      38     10                 31   \n",
      "..        ...   ...    ...      ...     ...    ...                ...   \n",
      "427        40    12     35       32      22     35                 34   \n",
      "428        10    25     12       21      44     12                 28   \n",
      "429        24    19      9       33      17     36                 35   \n",
      "430        17    10     29        9      27     19                 30   \n",
      "431        13    18     17        0      46     17                 17   \n",
      "\n",
      "     gambling  spoofing  stalking  dating  \n",
      "0          33        42        25      27  \n",
      "1          29        29        38      32  \n",
      "2          20        20        20      11  \n",
      "3          20        20        20      11  \n",
      "4          26        17        35      29  \n",
      "..        ...       ...       ...     ...  \n",
      "427        20        30        30      22  \n",
      "428        30        20        30      22  \n",
      "429        24        32        32      26  \n",
      "430        17        17        17       9  \n",
      "431        13        13         0       0  \n",
      "\n",
      "[432 rows x 17 columns]\n"
     ]
    }
   ],
   "source": [
    "df8 = pd.DataFrame(emailPerRes, columns =['email', 'word', 'foxrummy24','rummy','gaming',\"tradingview\",\"razorpay\",\"ebiz\",\"sarso\",\"trading\",\"binomo\",\"forex\",\"network marketing\",'gambling','spoofing','stalking','dating'], dtype = int)\n",
    "print(df8)"
   ]
  },
  {
   "cell_type": "code",
   "execution_count": 10,
   "id": "e84e600e",
   "metadata": {},
   "outputs": [
    {
     "name": "stdout",
     "output_type": "stream",
     "text": [
      "            email                word  foxrummy24  rummy  gaming  tradingview  \\\n",
      "0    boomingbulls    boomingbulls.com          23     19      36           22   \n",
      "1    boomingbulls       instagram.com          26     33      32           25   \n",
      "6    boomingbulls  pages.razorpay.com          21     17      25           21   \n",
      "7    boomingbulls  in.tradingview.com          14     17      33           76   \n",
      "9    boomingbulls        oneindia.com          18     12      22           26   \n",
      "..            ...                 ...         ...    ...     ...          ...   \n",
      "423         forex        avatrade.com          18     24      22           43   \n",
      "424         forex    giambronelaw.com          15     19      36           30   \n",
      "426         forex   wirecardforex.com          30     18      17           29   \n",
      "428         forex        livemint.com          18     24      33           26   \n",
      "431         forex             bbc.com          24     17      15            0   \n",
      "\n",
      "     razorpay  ebiz  sarso  trading  binomo  forex  network marketing  \\\n",
      "0           8    20     19       26      45     10                 30   \n",
      "1          29    12     44       30      42     11                 27   \n",
      "6          62    18     35       16      17     17                 23   \n",
      "7          23     9     17       56      33     17                 40   \n",
      "9          20    25     24       21      44     24                 28   \n",
      "..        ...   ...    ...      ...     ...    ...                ...   \n",
      "423        30    12     35       42      22     24                 28   \n",
      "424        25    10     29       17      36     19                 30   \n",
      "426        32    10     27       25      26     45                 29   \n",
      "428        10    25     12       21      44     12                 28   \n",
      "431        13    18     17        0      46     17                 17   \n",
      "\n",
      "     gambling  spoofing  stalking  dating  \n",
      "0          33        42        25      27  \n",
      "1          29        29        38      32  \n",
      "6          23        23        15      17  \n",
      "7          31        23        38      33  \n",
      "9          20        30        20      22  \n",
      "..        ...       ...       ...     ...  \n",
      "423        20        10        20      22  \n",
      "424        42        17        17      18  \n",
      "426        16        16         8       9  \n",
      "428        30        20        30      22  \n",
      "431        13        13         0       0  \n",
      "\n",
      "[181 rows x 17 columns]\n"
     ]
    }
   ],
   "source": [
    "print(df8[(df8['foxrummy24'] > 40) | (df8['rummy'] > 40) | (df8['gaming']>40)| (df8[\"tradingview\"]>40)| (df8['razorpay']>40)|(df8['ebiz']>40)|(df8[\"sarso\"]>40)|(df8[\"trading\"]>40)|(df8[\"binomo\"]>40)|(df8[\"forex\"]>40)|(df8[\"network marketing\"]>40)|(df8['gambling']>40)|(df8['spoofing']>40)|(df8['stalking']>40)|(df8['dating']>40)])"
   ]
  },
  {
   "cell_type": "code",
   "execution_count": 11,
   "id": "fd5564b5",
   "metadata": {},
   "outputs": [
    {
     "name": "stdout",
     "output_type": "stream",
     "text": [
      "            email                word  foxrummy24  rummy  gaming  tradingview  \\\n",
      "0    boomingbulls    boomingbulls.com          23     19      36           22   \n",
      "1    boomingbulls       instagram.com          26     33      32           25   \n",
      "6    boomingbulls  pages.razorpay.com          21     17      25           21   \n",
      "7    boomingbulls  in.tradingview.com          14     17      33           76   \n",
      "9    boomingbulls        oneindia.com          18     12      22           26   \n",
      "..            ...                 ...         ...    ...     ...          ...   \n",
      "423         forex        avatrade.com          18     24      22           43   \n",
      "424         forex    giambronelaw.com          15     19      36           30   \n",
      "426         forex   wirecardforex.com          30     18      17           29   \n",
      "428         forex        livemint.com          18     24      33           26   \n",
      "431         forex             bbc.com          24     17      15            0   \n",
      "\n",
      "     razorpay  ebiz  sarso  trading  binomo  forex  network marketing  \\\n",
      "0           8    20     19       26      45     10                 30   \n",
      "1          29    12     44       30      42     11                 27   \n",
      "6          62    18     35       16      17     17                 23   \n",
      "7          23     9     17       56      33     17                 40   \n",
      "9          20    25     24       21      44     24                 28   \n",
      "..        ...   ...    ...      ...     ...    ...                ...   \n",
      "423        30    12     35       42      22     24                 28   \n",
      "424        25    10     29       17      36     19                 30   \n",
      "426        32    10     27       25      26     45                 29   \n",
      "428        10    25     12       21      44     12                 28   \n",
      "431        13    18     17        0      46     17                 17   \n",
      "\n",
      "     gambling  spoofing  stalking  dating  \n",
      "0          33        42        25      27  \n",
      "1          29        29        38      32  \n",
      "6          23        23        15      17  \n",
      "7          31        23        38      33  \n",
      "9          20        30        20      22  \n",
      "..        ...       ...       ...     ...  \n",
      "423        20        10        20      22  \n",
      "424        42        17        17      18  \n",
      "426        16        16         8       9  \n",
      "428        30        20        30      22  \n",
      "431        13        13         0       0  \n",
      "\n",
      "[181 rows x 17 columns]\n"
     ]
    }
   ],
   "source": [
    "df11 =print(df8[(df8['foxrummy24'] > 40) | (df8['rummy'] > 40) | (df8['gaming']>40)| (df8[\"tradingview\"]>40)| (df8['razorpay']>40)|(df8['ebiz']>40)|(df8[\"sarso\"]>40)|(df8[\"trading\"]>40)|(df8[\"binomo\"]>40)|(df8[\"forex\"]>40)|(df8[\"network marketing\"]>40)|(df8['gambling']>40)|(df8['spoofing']>40)|(df8['stalking']>40)|(df8['dating']>40)])\n",
    "df11"
   ]
  },
  {
   "cell_type": "code",
   "execution_count": 12,
   "id": "63e98582",
   "metadata": {},
   "outputs": [
    {
     "ename": "AttributeError",
     "evalue": "'NoneType' object has no attribute 'to_csv'",
     "output_type": "error",
     "traceback": [
      "\u001b[0;31m---------------------------------------------------------------------------\u001b[0m",
      "\u001b[0;31mAttributeError\u001b[0m                            Traceback (most recent call last)",
      "\u001b[0;32m<ipython-input-12-762a5f2e28eb>\u001b[0m in \u001b[0;36m<module>\u001b[0;34m\u001b[0m\n\u001b[0;32m----> 1\u001b[0;31m \u001b[0mdf11\u001b[0m\u001b[0;34m.\u001b[0m\u001b[0mto_csv\u001b[0m\u001b[0;34m(\u001b[0m\u001b[0;34m'web_scrapp_risk_analysis.csv'\u001b[0m\u001b[0;34m)\u001b[0m\u001b[0;34m\u001b[0m\u001b[0;34m\u001b[0m\u001b[0m\n\u001b[0m",
      "\u001b[0;31mAttributeError\u001b[0m: 'NoneType' object has no attribute 'to_csv'"
     ]
    }
   ],
   "source": [
    "df11.to_csv('web_scrapp_risk_analysis.csv')"
   ]
  },
  {
   "cell_type": "code",
   "execution_count": null,
   "id": "05e5db75",
   "metadata": {},
   "outputs": [],
   "source": [
    "\"foxrummy24\",\"rummy\",\"gaming\",\"tradingview\",\"razorpay\",\"ebiz\",\"sarso\",\"trading\",\"binomo\",\"forex\",\"network marketing\",'gambling','spoofing','stalking','dating']"
   ]
  },
  {
   "cell_type": "code",
   "execution_count": null,
   "id": "b986ba0e",
   "metadata": {},
   "outputs": [],
   "source": []
  },
  {
   "cell_type": "code",
   "execution_count": null,
   "id": "c7a7d672",
   "metadata": {},
   "outputs": [],
   "source": []
  },
  {
   "cell_type": "code",
   "execution_count": null,
   "id": "bce69838",
   "metadata": {},
   "outputs": [],
   "source": []
  },
  {
   "cell_type": "code",
   "execution_count": null,
   "id": "c602133b",
   "metadata": {},
   "outputs": [],
   "source": []
  },
  {
   "cell_type": "code",
   "execution_count": null,
   "id": "471ce57c",
   "metadata": {},
   "outputs": [],
   "source": []
  },
  {
   "cell_type": "code",
   "execution_count": null,
   "id": "33af9379",
   "metadata": {},
   "outputs": [],
   "source": []
  },
  {
   "cell_type": "code",
   "execution_count": null,
   "id": "141d7b57",
   "metadata": {},
   "outputs": [],
   "source": []
  },
  {
   "cell_type": "code",
   "execution_count": null,
   "id": "04f0379e",
   "metadata": {},
   "outputs": [],
   "source": []
  }
 ],
 "metadata": {
  "kernelspec": {
   "display_name": "Python 3",
   "language": "python",
   "name": "python3"
  },
  "language_info": {
   "codemirror_mode": {
    "name": "ipython",
    "version": 3
   },
   "file_extension": ".py",
   "mimetype": "text/x-python",
   "name": "python",
   "nbconvert_exporter": "python",
   "pygments_lexer": "ipython3",
   "version": "3.8.8"
  }
 },
 "nbformat": 4,
 "nbformat_minor": 5
}
